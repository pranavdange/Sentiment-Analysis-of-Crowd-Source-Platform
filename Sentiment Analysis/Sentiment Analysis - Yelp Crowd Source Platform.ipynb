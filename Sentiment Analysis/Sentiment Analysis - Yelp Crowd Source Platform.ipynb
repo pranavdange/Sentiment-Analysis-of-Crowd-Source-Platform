{
 "cells": [
  {
   "cell_type": "code",
   "execution_count": 47,
   "id": "169de2e2",
   "metadata": {},
   "outputs": [],
   "source": [
    "# IMPORTING ALL THE NECESSARY LIBRARIES AND PACKAGES\n",
    "import pandas as pd\n",
    "import numpy as np\n",
    "import matplotlib.pyplot as plt\n",
    "import seaborn as sns\n",
    "import nltk\n",
    "from nltk.corpus import stopwords\n",
    "import string\n",
    "import math\n",
    "from sklearn.feature_extraction.text import CountVectorizer\n",
    "from sklearn.model_selection import train_test_split, cross_val_score\n",
    "from sklearn.metrics import classification_report\n",
    "from sklearn.metrics import confusion_matrix, accuracy_score, roc_auc_score, roc_curve\n",
    "from sklearn.model_selection import RandomizedSearchCV, GridSearchCV\n",
    "%matplotlib inline"
   ]
  },
  {
   "cell_type": "code",
   "execution_count": 48,
   "id": "dbd2c917",
   "metadata": {},
   "outputs": [],
   "source": [
    "# LOADING THE DATASET AND SEEING THE DETAILS\n",
    "df = pd.read_csv('yelp.csv')"
   ]
  },
  {
   "cell_type": "markdown",
   "id": "a947add4",
   "metadata": {},
   "source": [
    "## Understanding the Dataset"
   ]
  },
  {
   "cell_type": "code",
   "execution_count": 49,
   "id": "4f77895e",
   "metadata": {},
   "outputs": [
    {
     "name": "stdout",
     "output_type": "stream",
     "text": [
      "Shape of the dataset:\n",
      "(10000, 10)\n"
     ]
    }
   ],
   "source": [
    "# SHAPE OF THE DATASET\n",
    "print(\"Shape of the dataset:\")\n",
    "print(df.shape)"
   ]
  },
  {
   "cell_type": "code",
   "execution_count": 50,
   "id": "9b61a5c6",
   "metadata": {},
   "outputs": [
    {
     "name": "stdout",
     "output_type": "stream",
     "text": [
      "Column names:\n",
      "Index(['business_id', 'date', 'review_id', 'stars', 'text', 'type', 'user_id',\n",
      "       'cool', 'useful', 'funny'],\n",
      "      dtype='object')\n"
     ]
    }
   ],
   "source": [
    "# COLUMN NAMES\n",
    "print(\"Column names:\")\n",
    "print(df.columns)"
   ]
  },
  {
   "cell_type": "code",
   "execution_count": 51,
   "id": "ac82a77d",
   "metadata": {},
   "outputs": [
    {
     "name": "stdout",
     "output_type": "stream",
     "text": [
      "Datatype of each column:\n",
      "business_id    object\n",
      "date           object\n",
      "review_id      object\n",
      "stars           int64\n",
      "text           object\n",
      "type           object\n",
      "user_id        object\n",
      "cool            int64\n",
      "useful          int64\n",
      "funny           int64\n",
      "dtype: object\n"
     ]
    }
   ],
   "source": [
    "# DATATYPE OF EACH COLUMN\n",
    "print(\"Datatype of each column:\")\n",
    "print(df.dtypes)"
   ]
  },
  {
   "cell_type": "code",
   "execution_count": 52,
   "id": "816eaf4e",
   "metadata": {},
   "outputs": [
    {
     "data": {
      "text/html": [
       "<div>\n",
       "<style scoped>\n",
       "    .dataframe tbody tr th:only-of-type {\n",
       "        vertical-align: middle;\n",
       "    }\n",
       "\n",
       "    .dataframe tbody tr th {\n",
       "        vertical-align: top;\n",
       "    }\n",
       "\n",
       "    .dataframe thead th {\n",
       "        text-align: right;\n",
       "    }\n",
       "</style>\n",
       "<table border=\"1\" class=\"dataframe\">\n",
       "  <thead>\n",
       "    <tr style=\"text-align: right;\">\n",
       "      <th></th>\n",
       "      <th>business_id</th>\n",
       "      <th>date</th>\n",
       "      <th>review_id</th>\n",
       "      <th>stars</th>\n",
       "      <th>text</th>\n",
       "      <th>type</th>\n",
       "      <th>user_id</th>\n",
       "      <th>cool</th>\n",
       "      <th>useful</th>\n",
       "      <th>funny</th>\n",
       "    </tr>\n",
       "  </thead>\n",
       "  <tbody>\n",
       "    <tr>\n",
       "      <th>0</th>\n",
       "      <td>9yKzy9PApeiPPOUJEtnvkg</td>\n",
       "      <td>2011-01-26</td>\n",
       "      <td>fWKvX83p0-ka4JS3dc6E5A</td>\n",
       "      <td>5</td>\n",
       "      <td>My wife took me here on my birthday for breakf...</td>\n",
       "      <td>review</td>\n",
       "      <td>rLtl8ZkDX5vH5nAx9C3q5Q</td>\n",
       "      <td>2</td>\n",
       "      <td>5</td>\n",
       "      <td>0</td>\n",
       "    </tr>\n",
       "    <tr>\n",
       "      <th>1</th>\n",
       "      <td>ZRJwVLyzEJq1VAihDhYiow</td>\n",
       "      <td>2011-07-27</td>\n",
       "      <td>IjZ33sJrzXqU-0X6U8NwyA</td>\n",
       "      <td>5</td>\n",
       "      <td>I have no idea why some people give bad review...</td>\n",
       "      <td>review</td>\n",
       "      <td>0a2KyEL0d3Yb1V6aivbIuQ</td>\n",
       "      <td>0</td>\n",
       "      <td>0</td>\n",
       "      <td>0</td>\n",
       "    </tr>\n",
       "    <tr>\n",
       "      <th>2</th>\n",
       "      <td>6oRAC4uyJCsJl1X0WZpVSA</td>\n",
       "      <td>2012-06-14</td>\n",
       "      <td>IESLBzqUCLdSzSqm0eCSxQ</td>\n",
       "      <td>4</td>\n",
       "      <td>love the gyro plate. Rice is so good and I als...</td>\n",
       "      <td>review</td>\n",
       "      <td>0hT2KtfLiobPvh6cDC8JQg</td>\n",
       "      <td>0</td>\n",
       "      <td>1</td>\n",
       "      <td>0</td>\n",
       "    </tr>\n",
       "    <tr>\n",
       "      <th>3</th>\n",
       "      <td>_1QQZuf4zZOyFCvXc0o6Vg</td>\n",
       "      <td>2010-05-27</td>\n",
       "      <td>G-WvGaISbqqaMHlNnByodA</td>\n",
       "      <td>5</td>\n",
       "      <td>Rosie, Dakota, and I LOVE Chaparral Dog Park!!...</td>\n",
       "      <td>review</td>\n",
       "      <td>uZetl9T0NcROGOyFfughhg</td>\n",
       "      <td>1</td>\n",
       "      <td>2</td>\n",
       "      <td>0</td>\n",
       "    </tr>\n",
       "    <tr>\n",
       "      <th>4</th>\n",
       "      <td>6ozycU1RpktNG2-1BroVtw</td>\n",
       "      <td>2012-01-05</td>\n",
       "      <td>1uJFq2r5QfJG_6ExMRCaGw</td>\n",
       "      <td>5</td>\n",
       "      <td>General Manager Scott Petello is a good egg!!!...</td>\n",
       "      <td>review</td>\n",
       "      <td>vYmM4KTsC8ZfQBg-j5MWkw</td>\n",
       "      <td>0</td>\n",
       "      <td>0</td>\n",
       "      <td>0</td>\n",
       "    </tr>\n",
       "  </tbody>\n",
       "</table>\n",
       "</div>"
      ],
      "text/plain": [
       "              business_id        date               review_id  stars  \\\n",
       "0  9yKzy9PApeiPPOUJEtnvkg  2011-01-26  fWKvX83p0-ka4JS3dc6E5A      5   \n",
       "1  ZRJwVLyzEJq1VAihDhYiow  2011-07-27  IjZ33sJrzXqU-0X6U8NwyA      5   \n",
       "2  6oRAC4uyJCsJl1X0WZpVSA  2012-06-14  IESLBzqUCLdSzSqm0eCSxQ      4   \n",
       "3  _1QQZuf4zZOyFCvXc0o6Vg  2010-05-27  G-WvGaISbqqaMHlNnByodA      5   \n",
       "4  6ozycU1RpktNG2-1BroVtw  2012-01-05  1uJFq2r5QfJG_6ExMRCaGw      5   \n",
       "\n",
       "                                                text    type  \\\n",
       "0  My wife took me here on my birthday for breakf...  review   \n",
       "1  I have no idea why some people give bad review...  review   \n",
       "2  love the gyro plate. Rice is so good and I als...  review   \n",
       "3  Rosie, Dakota, and I LOVE Chaparral Dog Park!!...  review   \n",
       "4  General Manager Scott Petello is a good egg!!!...  review   \n",
       "\n",
       "                  user_id  cool  useful  funny  \n",
       "0  rLtl8ZkDX5vH5nAx9C3q5Q     2       5      0  \n",
       "1  0a2KyEL0d3Yb1V6aivbIuQ     0       0      0  \n",
       "2  0hT2KtfLiobPvh6cDC8JQg     0       1      0  \n",
       "3  uZetl9T0NcROGOyFfughhg     1       2      0  \n",
       "4  vYmM4KTsC8ZfQBg-j5MWkw     0       0      0  "
      ]
     },
     "execution_count": 52,
     "metadata": {},
     "output_type": "execute_result"
    }
   ],
   "source": [
    "df.head()"
   ]
  },
  {
   "cell_type": "code",
   "execution_count": 53,
   "id": "7032a6a7",
   "metadata": {},
   "outputs": [
    {
     "data": {
      "text/html": [
       "<div>\n",
       "<style scoped>\n",
       "    .dataframe tbody tr th:only-of-type {\n",
       "        vertical-align: middle;\n",
       "    }\n",
       "\n",
       "    .dataframe tbody tr th {\n",
       "        vertical-align: top;\n",
       "    }\n",
       "\n",
       "    .dataframe thead th {\n",
       "        text-align: right;\n",
       "    }\n",
       "</style>\n",
       "<table border=\"1\" class=\"dataframe\">\n",
       "  <thead>\n",
       "    <tr style=\"text-align: right;\">\n",
       "      <th></th>\n",
       "      <th>business_id</th>\n",
       "      <th>date</th>\n",
       "      <th>review_id</th>\n",
       "      <th>stars</th>\n",
       "      <th>text</th>\n",
       "      <th>type</th>\n",
       "      <th>user_id</th>\n",
       "      <th>cool</th>\n",
       "      <th>useful</th>\n",
       "      <th>funny</th>\n",
       "    </tr>\n",
       "  </thead>\n",
       "  <tbody>\n",
       "    <tr>\n",
       "      <th>count</th>\n",
       "      <td>10000</td>\n",
       "      <td>10000</td>\n",
       "      <td>10000</td>\n",
       "      <td>10000.000000</td>\n",
       "      <td>10000</td>\n",
       "      <td>10000</td>\n",
       "      <td>10000</td>\n",
       "      <td>10000.000000</td>\n",
       "      <td>10000.000000</td>\n",
       "      <td>10000.000000</td>\n",
       "    </tr>\n",
       "    <tr>\n",
       "      <th>unique</th>\n",
       "      <td>4174</td>\n",
       "      <td>1995</td>\n",
       "      <td>10000</td>\n",
       "      <td>NaN</td>\n",
       "      <td>9998</td>\n",
       "      <td>1</td>\n",
       "      <td>6403</td>\n",
       "      <td>NaN</td>\n",
       "      <td>NaN</td>\n",
       "      <td>NaN</td>\n",
       "    </tr>\n",
       "    <tr>\n",
       "      <th>top</th>\n",
       "      <td>ntN85eu27C04nwyPa8IHtw</td>\n",
       "      <td>2011-03-28</td>\n",
       "      <td>pY4QTKUcH6bpBtl4yeOMaw</td>\n",
       "      <td>NaN</td>\n",
       "      <td>Great service</td>\n",
       "      <td>review</td>\n",
       "      <td>fczQCSmaWF78toLEmb0Zsw</td>\n",
       "      <td>NaN</td>\n",
       "      <td>NaN</td>\n",
       "      <td>NaN</td>\n",
       "    </tr>\n",
       "    <tr>\n",
       "      <th>freq</th>\n",
       "      <td>37</td>\n",
       "      <td>21</td>\n",
       "      <td>1</td>\n",
       "      <td>NaN</td>\n",
       "      <td>2</td>\n",
       "      <td>10000</td>\n",
       "      <td>38</td>\n",
       "      <td>NaN</td>\n",
       "      <td>NaN</td>\n",
       "      <td>NaN</td>\n",
       "    </tr>\n",
       "    <tr>\n",
       "      <th>mean</th>\n",
       "      <td>NaN</td>\n",
       "      <td>NaN</td>\n",
       "      <td>NaN</td>\n",
       "      <td>3.777500</td>\n",
       "      <td>NaN</td>\n",
       "      <td>NaN</td>\n",
       "      <td>NaN</td>\n",
       "      <td>0.876800</td>\n",
       "      <td>1.409300</td>\n",
       "      <td>0.701300</td>\n",
       "    </tr>\n",
       "    <tr>\n",
       "      <th>std</th>\n",
       "      <td>NaN</td>\n",
       "      <td>NaN</td>\n",
       "      <td>NaN</td>\n",
       "      <td>1.214636</td>\n",
       "      <td>NaN</td>\n",
       "      <td>NaN</td>\n",
       "      <td>NaN</td>\n",
       "      <td>2.067861</td>\n",
       "      <td>2.336647</td>\n",
       "      <td>1.907942</td>\n",
       "    </tr>\n",
       "    <tr>\n",
       "      <th>min</th>\n",
       "      <td>NaN</td>\n",
       "      <td>NaN</td>\n",
       "      <td>NaN</td>\n",
       "      <td>1.000000</td>\n",
       "      <td>NaN</td>\n",
       "      <td>NaN</td>\n",
       "      <td>NaN</td>\n",
       "      <td>0.000000</td>\n",
       "      <td>0.000000</td>\n",
       "      <td>0.000000</td>\n",
       "    </tr>\n",
       "    <tr>\n",
       "      <th>25%</th>\n",
       "      <td>NaN</td>\n",
       "      <td>NaN</td>\n",
       "      <td>NaN</td>\n",
       "      <td>3.000000</td>\n",
       "      <td>NaN</td>\n",
       "      <td>NaN</td>\n",
       "      <td>NaN</td>\n",
       "      <td>0.000000</td>\n",
       "      <td>0.000000</td>\n",
       "      <td>0.000000</td>\n",
       "    </tr>\n",
       "    <tr>\n",
       "      <th>50%</th>\n",
       "      <td>NaN</td>\n",
       "      <td>NaN</td>\n",
       "      <td>NaN</td>\n",
       "      <td>4.000000</td>\n",
       "      <td>NaN</td>\n",
       "      <td>NaN</td>\n",
       "      <td>NaN</td>\n",
       "      <td>0.000000</td>\n",
       "      <td>1.000000</td>\n",
       "      <td>0.000000</td>\n",
       "    </tr>\n",
       "    <tr>\n",
       "      <th>75%</th>\n",
       "      <td>NaN</td>\n",
       "      <td>NaN</td>\n",
       "      <td>NaN</td>\n",
       "      <td>5.000000</td>\n",
       "      <td>NaN</td>\n",
       "      <td>NaN</td>\n",
       "      <td>NaN</td>\n",
       "      <td>1.000000</td>\n",
       "      <td>2.000000</td>\n",
       "      <td>1.000000</td>\n",
       "    </tr>\n",
       "    <tr>\n",
       "      <th>max</th>\n",
       "      <td>NaN</td>\n",
       "      <td>NaN</td>\n",
       "      <td>NaN</td>\n",
       "      <td>5.000000</td>\n",
       "      <td>NaN</td>\n",
       "      <td>NaN</td>\n",
       "      <td>NaN</td>\n",
       "      <td>77.000000</td>\n",
       "      <td>76.000000</td>\n",
       "      <td>57.000000</td>\n",
       "    </tr>\n",
       "  </tbody>\n",
       "</table>\n",
       "</div>"
      ],
      "text/plain": [
       "                   business_id        date               review_id  \\\n",
       "count                    10000       10000                   10000   \n",
       "unique                    4174        1995                   10000   \n",
       "top     ntN85eu27C04nwyPa8IHtw  2011-03-28  pY4QTKUcH6bpBtl4yeOMaw   \n",
       "freq                        37          21                       1   \n",
       "mean                       NaN         NaN                     NaN   \n",
       "std                        NaN         NaN                     NaN   \n",
       "min                        NaN         NaN                     NaN   \n",
       "25%                        NaN         NaN                     NaN   \n",
       "50%                        NaN         NaN                     NaN   \n",
       "75%                        NaN         NaN                     NaN   \n",
       "max                        NaN         NaN                     NaN   \n",
       "\n",
       "               stars           text    type                 user_id  \\\n",
       "count   10000.000000          10000   10000                   10000   \n",
       "unique           NaN           9998       1                    6403   \n",
       "top              NaN  Great service  review  fczQCSmaWF78toLEmb0Zsw   \n",
       "freq             NaN              2   10000                      38   \n",
       "mean        3.777500            NaN     NaN                     NaN   \n",
       "std         1.214636            NaN     NaN                     NaN   \n",
       "min         1.000000            NaN     NaN                     NaN   \n",
       "25%         3.000000            NaN     NaN                     NaN   \n",
       "50%         4.000000            NaN     NaN                     NaN   \n",
       "75%         5.000000            NaN     NaN                     NaN   \n",
       "max         5.000000            NaN     NaN                     NaN   \n",
       "\n",
       "                cool        useful         funny  \n",
       "count   10000.000000  10000.000000  10000.000000  \n",
       "unique           NaN           NaN           NaN  \n",
       "top              NaN           NaN           NaN  \n",
       "freq             NaN           NaN           NaN  \n",
       "mean        0.876800      1.409300      0.701300  \n",
       "std         2.067861      2.336647      1.907942  \n",
       "min         0.000000      0.000000      0.000000  \n",
       "25%         0.000000      0.000000      0.000000  \n",
       "50%         0.000000      1.000000      0.000000  \n",
       "75%         1.000000      2.000000      1.000000  \n",
       "max        77.000000     76.000000     57.000000  "
      ]
     },
     "execution_count": 53,
     "metadata": {},
     "output_type": "execute_result"
    }
   ],
   "source": [
    "# DATASET SUMMARY\n",
    "df.describe(include='all')"
   ]
  },
  {
   "cell_type": "markdown",
   "id": "d8cab8f6",
   "metadata": {},
   "source": [
    "## Data Preprocessing "
   ]
  },
  {
   "cell_type": "code",
   "execution_count": 54,
   "id": "8b34db14",
   "metadata": {},
   "outputs": [
    {
     "data": {
      "text/html": [
       "<div>\n",
       "<style scoped>\n",
       "    .dataframe tbody tr th:only-of-type {\n",
       "        vertical-align: middle;\n",
       "    }\n",
       "\n",
       "    .dataframe tbody tr th {\n",
       "        vertical-align: top;\n",
       "    }\n",
       "\n",
       "    .dataframe thead th {\n",
       "        text-align: right;\n",
       "    }\n",
       "</style>\n",
       "<table border=\"1\" class=\"dataframe\">\n",
       "  <thead>\n",
       "    <tr style=\"text-align: right;\">\n",
       "      <th></th>\n",
       "      <th>business_id</th>\n",
       "      <th>date</th>\n",
       "      <th>review_id</th>\n",
       "      <th>stars</th>\n",
       "      <th>text</th>\n",
       "      <th>type</th>\n",
       "      <th>user_id</th>\n",
       "      <th>cool</th>\n",
       "      <th>useful</th>\n",
       "      <th>funny</th>\n",
       "      <th>length</th>\n",
       "    </tr>\n",
       "  </thead>\n",
       "  <tbody>\n",
       "    <tr>\n",
       "      <th>0</th>\n",
       "      <td>9yKzy9PApeiPPOUJEtnvkg</td>\n",
       "      <td>2011-01-26</td>\n",
       "      <td>fWKvX83p0-ka4JS3dc6E5A</td>\n",
       "      <td>5</td>\n",
       "      <td>My wife took me here on my birthday for breakf...</td>\n",
       "      <td>review</td>\n",
       "      <td>rLtl8ZkDX5vH5nAx9C3q5Q</td>\n",
       "      <td>2</td>\n",
       "      <td>5</td>\n",
       "      <td>0</td>\n",
       "      <td>889</td>\n",
       "    </tr>\n",
       "    <tr>\n",
       "      <th>1</th>\n",
       "      <td>ZRJwVLyzEJq1VAihDhYiow</td>\n",
       "      <td>2011-07-27</td>\n",
       "      <td>IjZ33sJrzXqU-0X6U8NwyA</td>\n",
       "      <td>5</td>\n",
       "      <td>I have no idea why some people give bad review...</td>\n",
       "      <td>review</td>\n",
       "      <td>0a2KyEL0d3Yb1V6aivbIuQ</td>\n",
       "      <td>0</td>\n",
       "      <td>0</td>\n",
       "      <td>0</td>\n",
       "      <td>1345</td>\n",
       "    </tr>\n",
       "    <tr>\n",
       "      <th>2</th>\n",
       "      <td>6oRAC4uyJCsJl1X0WZpVSA</td>\n",
       "      <td>2012-06-14</td>\n",
       "      <td>IESLBzqUCLdSzSqm0eCSxQ</td>\n",
       "      <td>4</td>\n",
       "      <td>love the gyro plate. Rice is so good and I als...</td>\n",
       "      <td>review</td>\n",
       "      <td>0hT2KtfLiobPvh6cDC8JQg</td>\n",
       "      <td>0</td>\n",
       "      <td>1</td>\n",
       "      <td>0</td>\n",
       "      <td>76</td>\n",
       "    </tr>\n",
       "    <tr>\n",
       "      <th>3</th>\n",
       "      <td>_1QQZuf4zZOyFCvXc0o6Vg</td>\n",
       "      <td>2010-05-27</td>\n",
       "      <td>G-WvGaISbqqaMHlNnByodA</td>\n",
       "      <td>5</td>\n",
       "      <td>Rosie, Dakota, and I LOVE Chaparral Dog Park!!...</td>\n",
       "      <td>review</td>\n",
       "      <td>uZetl9T0NcROGOyFfughhg</td>\n",
       "      <td>1</td>\n",
       "      <td>2</td>\n",
       "      <td>0</td>\n",
       "      <td>419</td>\n",
       "    </tr>\n",
       "    <tr>\n",
       "      <th>4</th>\n",
       "      <td>6ozycU1RpktNG2-1BroVtw</td>\n",
       "      <td>2012-01-05</td>\n",
       "      <td>1uJFq2r5QfJG_6ExMRCaGw</td>\n",
       "      <td>5</td>\n",
       "      <td>General Manager Scott Petello is a good egg!!!...</td>\n",
       "      <td>review</td>\n",
       "      <td>vYmM4KTsC8ZfQBg-j5MWkw</td>\n",
       "      <td>0</td>\n",
       "      <td>0</td>\n",
       "      <td>0</td>\n",
       "      <td>469</td>\n",
       "    </tr>\n",
       "  </tbody>\n",
       "</table>\n",
       "</div>"
      ],
      "text/plain": [
       "              business_id        date               review_id  stars  \\\n",
       "0  9yKzy9PApeiPPOUJEtnvkg  2011-01-26  fWKvX83p0-ka4JS3dc6E5A      5   \n",
       "1  ZRJwVLyzEJq1VAihDhYiow  2011-07-27  IjZ33sJrzXqU-0X6U8NwyA      5   \n",
       "2  6oRAC4uyJCsJl1X0WZpVSA  2012-06-14  IESLBzqUCLdSzSqm0eCSxQ      4   \n",
       "3  _1QQZuf4zZOyFCvXc0o6Vg  2010-05-27  G-WvGaISbqqaMHlNnByodA      5   \n",
       "4  6ozycU1RpktNG2-1BroVtw  2012-01-05  1uJFq2r5QfJG_6ExMRCaGw      5   \n",
       "\n",
       "                                                text    type  \\\n",
       "0  My wife took me here on my birthday for breakf...  review   \n",
       "1  I have no idea why some people give bad review...  review   \n",
       "2  love the gyro plate. Rice is so good and I als...  review   \n",
       "3  Rosie, Dakota, and I LOVE Chaparral Dog Park!!...  review   \n",
       "4  General Manager Scott Petello is a good egg!!!...  review   \n",
       "\n",
       "                  user_id  cool  useful  funny  length  \n",
       "0  rLtl8ZkDX5vH5nAx9C3q5Q     2       5      0     889  \n",
       "1  0a2KyEL0d3Yb1V6aivbIuQ     0       0      0    1345  \n",
       "2  0hT2KtfLiobPvh6cDC8JQg     0       1      0      76  \n",
       "3  uZetl9T0NcROGOyFfughhg     1       2      0     419  \n",
       "4  vYmM4KTsC8ZfQBg-j5MWkw     0       0      0     469  "
      ]
     },
     "execution_count": 54,
     "metadata": {},
     "output_type": "execute_result"
    }
   ],
   "source": [
    "#CREATING A NEW COLUMN IN THE DATASET FOR THE NUMBER OF WORDS IN THE REVIEW\n",
    "df['length'] = df['text'].apply(len)\n",
    "df.head()"
   ]
  },
  {
   "cell_type": "code",
   "execution_count": 55,
   "id": "ff21a94e",
   "metadata": {},
   "outputs": [],
   "source": [
    "## Finding the Corealation between the length attribute and other columns "
   ]
  },
  {
   "cell_type": "code",
   "execution_count": 56,
   "id": "d6beb181",
   "metadata": {},
   "outputs": [
    {
     "data": {
      "text/plain": [
       "<seaborn.axisgrid.FacetGrid at 0x2cbaa3437f0>"
      ]
     },
     "execution_count": 56,
     "metadata": {},
     "output_type": "execute_result"
    },
    {
     "data": {
      "image/png": "[encoded data removed]",
      "text/plain": [
       "<Figure size 1080x216 with 5 Axes>"
      ]
     },
     "metadata": {
      "needs_background": "light"
     },
     "output_type": "display_data"
    }
   ],
   "source": [
    "# COMPARING TEXT LENGTH TO STARS\n",
    "graph = sns.FacetGrid(data=df,col='stars')\n",
    "graph.map(plt.hist,'length',bins=50,color='red')"
   ]
  },
  {
   "cell_type": "code",
   "execution_count": 57,
   "id": "08143b2d",
   "metadata": {},
   "outputs": [
    {
     "data": {
      "text/html": [
       "<div>\n",
       "<style scoped>\n",
       "    .dataframe tbody tr th:only-of-type {\n",
       "        vertical-align: middle;\n",
       "    }\n",
       "\n",
       "    .dataframe tbody tr th {\n",
       "        vertical-align: top;\n",
       "    }\n",
       "\n",
       "    .dataframe thead th {\n",
       "        text-align: right;\n",
       "    }\n",
       "</style>\n",
       "<table border=\"1\" class=\"dataframe\">\n",
       "  <thead>\n",
       "    <tr style=\"text-align: right;\">\n",
       "      <th></th>\n",
       "      <th>cool</th>\n",
       "      <th>useful</th>\n",
       "      <th>funny</th>\n",
       "      <th>length</th>\n",
       "    </tr>\n",
       "    <tr>\n",
       "      <th>stars</th>\n",
       "      <th></th>\n",
       "      <th></th>\n",
       "      <th></th>\n",
       "      <th></th>\n",
       "    </tr>\n",
       "  </thead>\n",
       "  <tbody>\n",
       "    <tr>\n",
       "      <th>1</th>\n",
       "      <td>0.576769</td>\n",
       "      <td>1.604806</td>\n",
       "      <td>1.056075</td>\n",
       "      <td>826.515354</td>\n",
       "    </tr>\n",
       "    <tr>\n",
       "      <th>2</th>\n",
       "      <td>0.719525</td>\n",
       "      <td>1.563107</td>\n",
       "      <td>0.875944</td>\n",
       "      <td>842.256742</td>\n",
       "    </tr>\n",
       "    <tr>\n",
       "      <th>3</th>\n",
       "      <td>0.788501</td>\n",
       "      <td>1.306639</td>\n",
       "      <td>0.694730</td>\n",
       "      <td>758.498289</td>\n",
       "    </tr>\n",
       "    <tr>\n",
       "      <th>4</th>\n",
       "      <td>0.954623</td>\n",
       "      <td>1.395916</td>\n",
       "      <td>0.670448</td>\n",
       "      <td>712.923142</td>\n",
       "    </tr>\n",
       "    <tr>\n",
       "      <th>5</th>\n",
       "      <td>0.944261</td>\n",
       "      <td>1.381780</td>\n",
       "      <td>0.608631</td>\n",
       "      <td>624.999101</td>\n",
       "    </tr>\n",
       "  </tbody>\n",
       "</table>\n",
       "</div>"
      ],
      "text/plain": [
       "           cool    useful     funny      length\n",
       "stars                                          \n",
       "1      0.576769  1.604806  1.056075  826.515354\n",
       "2      0.719525  1.563107  0.875944  842.256742\n",
       "3      0.788501  1.306639  0.694730  758.498289\n",
       "4      0.954623  1.395916  0.670448  712.923142\n",
       "5      0.944261  1.381780  0.608631  624.999101"
      ]
     },
     "execution_count": 57,
     "metadata": {},
     "output_type": "execute_result"
    }
   ],
   "source": [
    "# GETTING THE MEAN VALUES OF THE VOTE COLUMNS WRT THE STARS ON THE REVIEW\n",
    "stval = df.groupby('stars').mean()\n",
    "stval"
   ]
  },
  {
   "cell_type": "markdown",
   "id": "bd318c56",
   "metadata": {},
   "source": [
    "Correlation between the columns:"
   ]
  },
  {
   "cell_type": "code",
   "execution_count": 58,
   "id": "f756d2e7",
   "metadata": {},
   "outputs": [
    {
     "data": {
      "text/html": [
       "<div>\n",
       "<style scoped>\n",
       "    .dataframe tbody tr th:only-of-type {\n",
       "        vertical-align: middle;\n",
       "    }\n",
       "\n",
       "    .dataframe tbody tr th {\n",
       "        vertical-align: top;\n",
       "    }\n",
       "\n",
       "    .dataframe thead th {\n",
       "        text-align: right;\n",
       "    }\n",
       "</style>\n",
       "<table border=\"1\" class=\"dataframe\">\n",
       "  <thead>\n",
       "    <tr style=\"text-align: right;\">\n",
       "      <th></th>\n",
       "      <th>cool</th>\n",
       "      <th>useful</th>\n",
       "      <th>funny</th>\n",
       "      <th>length</th>\n",
       "    </tr>\n",
       "  </thead>\n",
       "  <tbody>\n",
       "    <tr>\n",
       "      <th>cool</th>\n",
       "      <td>1.000000</td>\n",
       "      <td>-0.743329</td>\n",
       "      <td>-0.944939</td>\n",
       "      <td>-0.857664</td>\n",
       "    </tr>\n",
       "    <tr>\n",
       "      <th>useful</th>\n",
       "      <td>-0.743329</td>\n",
       "      <td>1.000000</td>\n",
       "      <td>0.894506</td>\n",
       "      <td>0.699881</td>\n",
       "    </tr>\n",
       "    <tr>\n",
       "      <th>funny</th>\n",
       "      <td>-0.944939</td>\n",
       "      <td>0.894506</td>\n",
       "      <td>1.000000</td>\n",
       "      <td>0.843461</td>\n",
       "    </tr>\n",
       "    <tr>\n",
       "      <th>length</th>\n",
       "      <td>-0.857664</td>\n",
       "      <td>0.699881</td>\n",
       "      <td>0.843461</td>\n",
       "      <td>1.000000</td>\n",
       "    </tr>\n",
       "  </tbody>\n",
       "</table>\n",
       "</div>"
      ],
      "text/plain": [
       "            cool    useful     funny    length\n",
       "cool    1.000000 -0.743329 -0.944939 -0.857664\n",
       "useful -0.743329  1.000000  0.894506  0.699881\n",
       "funny  -0.944939  0.894506  1.000000  0.843461\n",
       "length -0.857664  0.699881  0.843461  1.000000"
      ]
     },
     "execution_count": 58,
     "metadata": {},
     "output_type": "execute_result"
    }
   ],
   "source": [
    "# FINDING THE CORRELATION BETWEEN THE VOTE COLUMNS\n",
    "stval.corr()"
   ]
  },
  {
   "cell_type": "markdown",
   "id": "65dde920",
   "metadata": {},
   "source": [
    "Thus, we can see that there is negative correlation between:\n",
    "\n",
    "* Cool and Useful\n",
    "* Cool and Funny\n",
    "* Cool and Length  \n",
    "\n",
    "Thus, we can say that the reviews marked cool tend to be curt, not very useful to others and short.\n",
    "Whereas, there is a positive correlation between:\n",
    "\n",
    "* Funny and Useful    \n",
    "* Funny and Length\n",
    "* Useful and Length "
   ]
  },
  {
   "cell_type": "markdown",
   "id": "0e858a3d",
   "metadata": {},
   "source": [
    "#### Thus, we can say that longer reviews tend to be funny and useful."
   ]
  },
  {
   "cell_type": "markdown",
   "id": "4fc6df1d",
   "metadata": {},
   "source": [
    "### Classifying the dataset and splitting it into the reviews and stars ie. X and y"
   ]
  },
  {
   "cell_type": "code",
   "execution_count": 59,
   "id": "a8ec6030",
   "metadata": {},
   "outputs": [
    {
     "name": "stdout",
     "output_type": "stream",
     "text": [
      "(5547, 11)\n"
     ]
    }
   ],
   "source": [
    "# CLASSIFICATION\n",
    "data_classes = df[(df['stars']==1) | (df['stars']==3) | (df['stars']==5)]\n",
    "data_classes.head()\n",
    "print(data_classes.shape)"
   ]
  },
  {
   "cell_type": "code",
   "execution_count": 60,
   "id": "65ba4ec6",
   "metadata": {},
   "outputs": [
    {
     "name": "stdout",
     "output_type": "stream",
     "text": [
      "0    My wife took me here on my birthday for breakf...\n",
      "1    I have no idea why some people give bad review...\n",
      "3    Rosie, Dakota, and I LOVE Chaparral Dog Park!!...\n",
      "4    General Manager Scott Petello is a good egg!!!...\n",
      "6    Drop what you're doing and drive here. After I...\n",
      "Name: text, dtype: object\n",
      "0    5\n",
      "1    5\n",
      "3    5\n",
      "4    5\n",
      "6    5\n",
      "Name: stars, dtype: int64\n"
     ]
    }
   ],
   "source": [
    "\n",
    "# Seperate the dataset into X and Y for prediction\n",
    "x = data_classes['text']\n",
    "y = data_classes['stars']\n",
    "print(x.head())\n",
    "print(y.head())"
   ]
  },
  {
   "cell_type": "code",
   "execution_count": 61,
   "id": "3e60a8ef",
   "metadata": {},
   "outputs": [],
   "source": [
    "# CLEANING THE REVIEWS - REMOVAL OF STOPWORDS AND PUNCTUATION\n",
    "def text_process(text):\n",
    "    nopunc = [char for char in text if char not in string.punctuation]\n",
    "    nopunc = ''.join(nopunc)\n",
    "    return [word for word in nopunc.split() if word.lower() not in stopwords.words('english')]"
   ]
  },
  {
   "cell_type": "code",
   "execution_count": 62,
   "id": "e782f559",
   "metadata": {},
   "outputs": [
    {
     "name": "stdout",
     "output_type": "stream",
     "text": [
      "31336\n",
      "My wife took me here on my birthday for breakfast and it was excellent.  The weather was perfect which made sitting outside overlooking their grounds an absolute pleasure.  Our waitress was excellent and our food arrived quickly on the semi-busy Saturday morning.  It looked like the place fills up pretty quickly so the earlier you get here the better.\n",
      "\n",
      "Do yourself a favor and get their Bloody Mary.  It was phenomenal and simply the best I've ever had.  I'm pretty sure they only use ingredients from their garden and blend them fresh when you order it.  It was amazing.\n",
      "\n",
      "While EVERYTHING on the menu looks excellent, I had the white truffle scrambled eggs vegetable skillet and it was tasty and delicious.  It came with 2 pieces of their griddled bread with was amazing and it absolutely made the meal complete.  It was the best \"toast\" I've ever had.\n",
      "\n",
      "Anyway, I can't wait to go back!\n",
      "  (0, 292)\t1\n",
      "  (0, 1213)\t1\n",
      "  (0, 1811)\t1\n",
      "  (0, 3537)\t1\n",
      "  (0, 5139)\t1\n",
      "  (0, 5256)\t2\n",
      "  (0, 6275)\t1\n",
      "  (0, 8521)\t1\n",
      "  (0, 10646)\t1\n",
      "  (0, 10647)\t1\n",
      "  (0, 11128)\t2\n",
      "  (0, 11479)\t1\n",
      "  (0, 11779)\t1\n",
      "  (0, 12206)\t2\n",
      "  (0, 12221)\t1\n",
      "  (0, 12297)\t1\n",
      "  (0, 12386)\t1\n",
      "  (0, 12675)\t1\n",
      "  (0, 12689)\t1\n",
      "  (0, 13135)\t1\n",
      "  (0, 13186)\t1\n",
      "  (0, 14247)\t1\n",
      "  (0, 15385)\t1\n",
      "  (0, 16292)\t1\n",
      "  (0, 16412)\t1\n",
      "  :\t:\n",
      "  (0, 23318)\t1\n",
      "  (0, 23801)\t1\n",
      "  (0, 23902)\t1\n",
      "  (0, 23976)\t1\n",
      "  (0, 24080)\t1\n",
      "  (0, 24177)\t1\n",
      "  (0, 24544)\t2\n",
      "  (0, 24972)\t2\n",
      "  (0, 26383)\t1\n",
      "  (0, 26543)\t1\n",
      "  (0, 26978)\t1\n",
      "  (0, 27029)\t1\n",
      "  (0, 27068)\t1\n",
      "  (0, 28403)\t1\n",
      "  (0, 28735)\t1\n",
      "  (0, 29230)\t1\n",
      "  (0, 29313)\t1\n",
      "  (0, 29620)\t1\n",
      "  (0, 30135)\t1\n",
      "  (0, 30240)\t1\n",
      "  (0, 30471)\t1\n",
      "  (0, 30488)\t1\n",
      "  (0, 30672)\t1\n",
      "  (0, 30854)\t1\n",
      "  (0, 30900)\t1\n",
      "Getting the words back:\n",
      "hygienist\n",
      "absence\n"
     ]
    }
   ],
   "source": [
    "# CONVERTING THE WORDS INTO A VECTOR\n",
    "vocab = CountVectorizer(analyzer=text_process).fit(x)\n",
    "print(len(vocab.vocabulary_))\n",
    "r0 = x[0]\n",
    "print(r0)\n",
    "vocab0 = vocab.transform([r0])\n",
    "print(vocab0)\n",
    "\"\"\"\n",
    "    Now the words in the review number 78 have been converted into a vector.\n",
    "    The data that we can see is the transformed words.\n",
    "    If we now get the feature's name - we can get the word back!\n",
    "\"\"\"\n",
    "print(\"Getting the words back:\")\n",
    "print(vocab.get_feature_names()[19648])\n",
    "print(vocab.get_feature_names()[10643])"
   ]
  },
  {
   "cell_type": "markdown",
   "id": "da6ce807",
   "metadata": {},
   "source": [
    " ### Vectorization of the whole review set and and checking the sparse matrix:"
   ]
  },
  {
   "cell_type": "code",
   "execution_count": 63,
   "id": "de3895cb",
   "metadata": {},
   "outputs": [
    {
     "name": "stdout",
     "output_type": "stream",
     "text": [
      "Shape of the sparse matrix:  (5547, 31336)\n",
      "Non-Zero occurences:  312457\n",
      "Density of the matrix =  0.17975812697942373\n"
     ]
    }
   ],
   "source": [
    "x = vocab.transform(x)\n",
    "#Shape of the matrix:\n",
    "print(\"Shape of the sparse matrix: \", x.shape)\n",
    "#Non-zero occurences:\n",
    "print(\"Non-Zero occurences: \",x.nnz)\n",
    "\n",
    "# DENSITY OF THE MATRIX\n",
    "density = (x.nnz/(x.shape[0]*x.shape[1]))*100\n",
    "print(\"Density of the matrix = \",density)"
   ]
  },
  {
   "cell_type": "code",
   "execution_count": 64,
   "id": "c62ca67d",
   "metadata": {},
   "outputs": [],
   "source": [
    "filename1 = 'finalized_model_pickle.pk'\n",
    "pickle.dump(vocab, open(filename1, 'wb'))\n",
    "loaded_model1 = pickle.load(open(filename1, 'rb'))"
   ]
  },
  {
   "cell_type": "markdown",
   "id": "be63838e",
   "metadata": {},
   "source": [
    "### Splitting the dataset X into training and testing set:"
   ]
  },
  {
   "cell_type": "code",
   "execution_count": 28,
   "id": "4c8b45fc",
   "metadata": {},
   "outputs": [],
   "source": [
    "# SPLITTING THE DATASET INTO TRAINING SET AND TESTING SET\n",
    "x_train,x_test,y_train,y_test = train_test_split(x,y,test_size=0.2,random_state=101)"
   ]
  },
  {
   "cell_type": "markdown",
   "id": "1c8c7e39",
   "metadata": {},
   "source": [
    "### Modelling:\n",
    "#### We will now use multiple Machine Algorithms to see which gives the best performance."
   ]
  },
  {
   "cell_type": "code",
   "execution_count": 29,
   "id": "34430a18",
   "metadata": {},
   "outputs": [
    {
     "name": "stdout",
     "output_type": "stream",
     "text": [
      "Confusion Matrix for Multinomial Naive Bayes:\n",
      "[[ 75  49  38]\n",
      " [  7 180 105]\n",
      " [ 12  45 599]]\n",
      "Score: 76.94\n",
      "Classification Report:               precision    recall  f1-score   support\n",
      "\n",
      "           1       0.80      0.46      0.59       162\n",
      "           3       0.66      0.62      0.64       292\n",
      "           5       0.81      0.91      0.86       656\n",
      "\n",
      "    accuracy                           0.77      1110\n",
      "   macro avg       0.75      0.66      0.69      1110\n",
      "weighted avg       0.77      0.77      0.76      1110\n",
      "\n"
     ]
    }
   ],
   "source": [
    "# Multinomial Naive Bayes\n",
    "from sklearn.naive_bayes import MultinomialNB\n",
    "mnb = MultinomialNB()\n",
    "mnb.fit(x_train,y_train)\n",
    "predmnb = mnb.predict(x_test)\n",
    "print(\"Confusion Matrix for Multinomial Naive Bayes:\")\n",
    "print(confusion_matrix(y_test,predmnb))\n",
    "print(\"Score:\",round(accuracy_score(y_test,predmnb)*100,2))\n",
    "print(\"Classification Report:\",classification_report(y_test,predmnb))"
   ]
  },
  {
   "cell_type": "code",
   "execution_count": 30,
   "id": "049cffa9",
   "metadata": {},
   "outputs": [
    {
     "name": "stdout",
     "output_type": "stream",
     "text": [
      "Confusion Matrix for Random Forest Classifier:\n",
      "[[ 27  29 106]\n",
      " [  2 101 189]\n",
      " [  0  14 642]]\n",
      "Score: 69.37\n",
      "Classification Report:               precision    recall  f1-score   support\n",
      "\n",
      "           1       0.93      0.17      0.28       162\n",
      "           3       0.70      0.35      0.46       292\n",
      "           5       0.69      0.98      0.81       656\n",
      "\n",
      "    accuracy                           0.69      1110\n",
      "   macro avg       0.77      0.50      0.52      1110\n",
      "weighted avg       0.73      0.69      0.64      1110\n",
      "\n"
     ]
    }
   ],
   "source": [
    "# Random Forest\n",
    "from sklearn.ensemble import RandomForestClassifier\n",
    "rmfr = RandomForestClassifier()\n",
    "rmfr.fit(x_train,y_train)\n",
    "predrmfr = rmfr.predict(x_test)\n",
    "print(\"Confusion Matrix for Random Forest Classifier:\")\n",
    "print(confusion_matrix(y_test,predrmfr))\n",
    "print(\"Score:\",round(accuracy_score(y_test,predrmfr)*100,2))\n",
    "print(\"Classification Report:\",classification_report(y_test,predrmfr))"
   ]
  },
  {
   "cell_type": "code",
   "execution_count": 35,
   "id": "c2a96812",
   "metadata": {},
   "outputs": [
    {
     "name": "stderr",
     "output_type": "stream",
     "text": [
      "C:\\ProgramData\\Anaconda3\\lib\\site-packages\\xgboost\\sklearn.py:1146: UserWarning: The use of label encoder in XGBClassifier is deprecated and will be removed in a future release. To remove this warning, do the following: 1) Pass option use_label_encoder=False when constructing XGBClassifier object; and 2) Encode your labels (y) as integers starting with 0, i.e. 0, 1, 2, ..., [num_class - 1].\n",
      "  warnings.warn(label_encoder_deprecation_msg, UserWarning)\n"
     ]
    },
    {
     "name": "stdout",
     "output_type": "stream",
     "text": [
      "[07:43:11] WARNING: C:/Users/Administrator/workspace/xgboost-win64_release_1.4.0/src/learner.cc:1095: Starting in XGBoost 1.3.0, the default evaluation metric used with the objective 'multi:softprob' was changed from 'merror' to 'mlogloss'. Explicitly set eval_metric if you'd like to restore the old behavior.\n",
      "Confusion Matrix for XGBoost Classifier:\n",
      "[[ 75  38  49]\n",
      " [ 12 162 118]\n",
      " [  9  36 611]]\n",
      "Score:  76.4\n",
      "Classification Report:\n",
      "              precision    recall  f1-score   support\n",
      "\n",
      "           1       0.78      0.46      0.58       162\n",
      "           3       0.69      0.55      0.61       292\n",
      "           5       0.79      0.93      0.85       656\n",
      "\n",
      "    accuracy                           0.76      1110\n",
      "   macro avg       0.75      0.65      0.68      1110\n",
      "weighted avg       0.76      0.76      0.75      1110\n",
      "\n"
     ]
    }
   ],
   "source": [
    "# XGBoost Classifier\n",
    "import xgboost\n",
    "from xgboost import XGBClassifier\n",
    "xgb = XGBClassifier()\n",
    "xgb.fit(x_train,y_train)\n",
    "predxgb = xgb.predict(x_test)\n",
    "print(\"Confusion Matrix for XGBoost Classifier:\")\n",
    "print(confusion_matrix(y_test,predxgb))\n",
    "print(\"Score: \",round(accuracy_score(y_test,predxgb)*100,2))\n",
    "print(\"Classification Report:\")\n",
    "print(classification_report(y_test,predxgb))"
   ]
  },
  {
   "cell_type": "code",
   "execution_count": 31,
   "id": "cfb0ecbb",
   "metadata": {},
   "outputs": [
    {
     "name": "stdout",
     "output_type": "stream",
     "text": [
      "Confusion Matrix for Support Vector Machines:\n",
      "[[ 31  23 108]\n",
      " [  5 122 165]\n",
      " [  1  19 636]]\n",
      "Score: 71.08\n",
      "Classification Report:               precision    recall  f1-score   support\n",
      "\n",
      "           1       0.84      0.19      0.31       162\n",
      "           3       0.74      0.42      0.54       292\n",
      "           5       0.70      0.97      0.81       656\n",
      "\n",
      "    accuracy                           0.71      1110\n",
      "   macro avg       0.76      0.53      0.55      1110\n",
      "weighted avg       0.73      0.71      0.67      1110\n",
      "\n"
     ]
    }
   ],
   "source": [
    "# Support Vector Machine\n",
    "from sklearn.svm import SVC\n",
    "svm = SVC(random_state=101)\n",
    "svm.fit(x_train,y_train)\n",
    "predsvm = svm.predict(x_test)\n",
    "print(\"Confusion Matrix for Support Vector Machines:\")\n",
    "print(confusion_matrix(y_test,predsvm))\n",
    "print(\"Score:\",round(accuracy_score(y_test,predsvm)*100,2))\n",
    "print(\"Classification Report:\",classification_report(y_test,predsvm))"
   ]
  },
  {
   "cell_type": "code",
   "execution_count": null,
   "id": "9de7ad86",
   "metadata": {},
   "outputs": [],
   "source": [
    "## Predicting using Multinomial Naive Bais"
   ]
  },
  {
   "cell_type": "code",
   "execution_count": 32,
   "id": "96e25a85",
   "metadata": {},
   "outputs": [
    {
     "name": "stdout",
     "output_type": "stream",
     "text": [
      "My wife took me here on my birthday for breakfast and it was excellent.  The weather was perfect which made sitting outside overlooking their grounds an absolute pleasure.  Our waitress was excellent and our food arrived quickly on the semi-busy Saturday morning.  It looked like the place fills up pretty quickly so the earlier you get here the better.\n",
      "\n",
      "Do yourself a favor and get their Bloody Mary.  It was phenomenal and simply the best I've ever had.  I'm pretty sure they only use ingredients from their garden and blend them fresh when you order it.  It was amazing.\n",
      "\n",
      "While EVERYTHING on the menu looks excellent, I had the white truffle scrambled eggs vegetable skillet and it was tasty and delicious.  It came with 2 pieces of their griddled bread with was amazing and it absolutely made the meal complete.  It was the best \"toast\" I've ever had.\n",
      "\n",
      "Anyway, I can't wait to go back!\n",
      "Actual Rating:  5\n",
      "Predicted Rating:\n"
     ]
    },
    {
     "data": {
      "text/plain": [
       "5"
      ]
     },
     "execution_count": 32,
     "metadata": {},
     "output_type": "execute_result"
    }
   ],
   "source": [
    "# POSITIVE REVIEW\n",
    "pr = df['text'][0]\n",
    "print(pr)\n",
    "print(\"Actual Rating: \",df['stars'][0])\n",
    "pr_t = vocab.transform([pr])\n",
    "print(\"Predicted Rating:\")\n",
    "mnb.predict(pr_t)[0]"
   ]
  },
  {
   "cell_type": "code",
   "execution_count": 33,
   "id": "c39da74f",
   "metadata": {},
   "outputs": [
    {
     "name": "stdout",
     "output_type": "stream",
     "text": [
      "We went here on a Saturday afternoon and this place was incredibly empty.  They had brunch specials going on, including $2 bloody mary's and mimosas, but we were more in the mood for lunch.  Except for the bloody mary, I had to try one.  It came out in a high-ball-sized glass.  Boo!  But it was really tasty. Yay!  The hubby remembered a sign outside the restaurant a few weeks back that said they had Arrogant Bastard, and he got a 22 oz bottle for $4.75.  Hey, that's not fair!!\n",
      "\n",
      "Next up: the wings.  We were a bit hesitant to order them when the waitress informed us that they are \"seasoned\" but not sauced, so they can't be ordered hot.  We did ask for them crispy though, and the waitress even asked the cooks to throw them back in for a few minutes when they came out not visibly crispy.  These non-traditional wings were actually pretty damn good.  The seasoning was a little spicy and salty with just a hint of sweet.  If I were in the mood for the tang and kick of Frank's Hot Sauce, these wouldn't cut it, but otherwise they were good enough to go back again for.\n",
      "\n",
      "My entree was the Tilapia salad, and I was a bit disappointed.  The fish was a bit dry and uninspired. And the greens underneath were overdressed and wilted.  I ate the greens around the fish and picked out the almonds and Mandarin oranges, but I had to leave the mush hiding underneath the fish.\n",
      "\n",
      "It wasn't bad enough to say I wouldn't go back, but I won't be anxiously awaiting my next trip.\n",
      "Actual Rating:  3\n",
      "Predicted Rating:\n"
     ]
    },
    {
     "data": {
      "text/plain": [
       "3"
      ]
     },
     "execution_count": 33,
     "metadata": {},
     "output_type": "execute_result"
    }
   ],
   "source": [
    "# AVERAGE REVIEW\n",
    "ar = df['text'][16]\n",
    "print(ar)\n",
    "print(\"Actual Rating: \",df['stars'][16])\n",
    "ar_t = vocab.transform([ar])\n",
    "print(\"Predicted Rating:\")\n",
    "mnb.predict(ar_t)[0]"
   ]
  },
  {
   "cell_type": "code",
   "execution_count": 34,
   "id": "8ae1c69b",
   "metadata": {},
   "outputs": [
    {
     "name": "stdout",
     "output_type": "stream",
     "text": [
      "U can go there n check the car out. If u wanna buy 1 there? That's wrong move! If u even want a car service from there? U made a biggest mistake of ur life!! I had 1 time asked my girlfriend to take my car there for an oil service, guess what? They ripped my girlfriend off by lying how bad my car is now. If without fixing the problem. Might bring some serious accident. Then she did what they said. 4 brand new tires, timing belt, 4 new brake pads. U know why's the worst? All of those above I had just changed 2 months before!!! What a trashy dealer is that? People, better off go somewhere!\n",
      "Actual Rating:  1\n",
      "Predicted Rating:\n"
     ]
    },
    {
     "data": {
      "text/plain": [
       "1"
      ]
     },
     "execution_count": 34,
     "metadata": {},
     "output_type": "execute_result"
    }
   ],
   "source": [
    "# NEGATIVE REVIEW\n",
    "nr = df['text'][23]\n",
    "print(nr)\n",
    "print(\"Actual Rating: \",df['stars'][23])\n",
    "nr_t = vocab.transform([nr])\n",
    "print(\"Predicted Rating:\")\n",
    "mnb.predict(nr_t)[0]"
   ]
  },
  {
   "cell_type": "code",
   "execution_count": 36,
   "id": "36c6aea0",
   "metadata": {},
   "outputs": [],
   "source": [
    "# save the model to\n",
    "import pickle\n",
    "filename = 'finalized_model.sav'\n",
    "pickle.dump(mnb, open(filename, 'wb'))"
   ]
  },
  {
   "cell_type": "code",
   "execution_count": 37,
   "id": "ba845531",
   "metadata": {},
   "outputs": [
    {
     "name": "stdout",
     "output_type": "stream",
     "text": [
      "1\n"
     ]
    }
   ],
   "source": [
    "# some time later...\n",
    " \n",
    "# load the model from disk\n",
    "loaded_model = pickle.load(open(filename, 'rb'))\n",
    "nr = df['text'][23]\n",
    "\n",
    "nr_t = vocab.transform([nr])\n",
    "result = loaded_model.predict(nr_t)[0]\n",
    "print(result)\n",
    "\n"
   ]
  },
  {
   "cell_type": "code",
   "execution_count": 65,
   "id": "d905b92b",
   "metadata": {},
   "outputs": [
    {
     "data": {
      "text/plain": [
       "numpy.int64"
      ]
     },
     "execution_count": 65,
     "metadata": {},
     "output_type": "execute_result"
    }
   ],
   "source": [
    "type(result)"
   ]
  },
  {
   "cell_type": "code",
   "execution_count": 38,
   "id": "c7c299fa",
   "metadata": {},
   "outputs": [
    {
     "name": "stdout",
     "output_type": "stream",
     "text": [
      "U can go there n check the car out. If u wanna buy 1 there? That's wrong move! If u even want a car service from there? U made a biggest mistake of ur life!! I had 1 time asked my girlfriend to take my car there for an oil service, guess what? They ripped my girlfriend off by lying how bad my car is now. If without fixing the problem. Might bring some serious accident. Then she did what they said. 4 brand new tires, timing belt, 4 new brake pads. U know why's the worst? All of those above I had just changed 2 months before!!! What a trashy dealer is that? People, better off go somewhere!\n"
     ]
    }
   ],
   "source": [
    "print(nr)"
   ]
  }
 ],
 "metadata": {
  "kernelspec": {
   "display_name": "Python 3",
   "language": "python",
   "name": "python3"
  },
  "language_info": {
   "codemirror_mode": {
    "name": "ipython",
    "version": 3
   },
   "file_extension": ".py",
   "mimetype": "text/x-python",
   "name": "python",
   "nbconvert_exporter": "python",
   "pygments_lexer": "ipython3",
   "version": "3.8.10"
  }
 },
 "nbformat": 4,
 "nbformat_minor": 5
}
